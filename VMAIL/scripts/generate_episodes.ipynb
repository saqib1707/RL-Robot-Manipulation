{
 "cells": [
  {
   "cell_type": "code",
   "execution_count": 108,
   "metadata": {},
   "outputs": [],
   "source": [
    "import os\n",
    "import sys\n",
    "import argparse\n",
    "import uuid\n",
    "import io\n",
    "import random\n",
    "import time\n",
    "from datetime import datetime\n",
    "import numpy as np\n",
    "import matplotlib.pyplot as plt\n",
    "import imageio\n",
    "import json\n",
    "import pprint\n",
    "import pathlib\n",
    "from tqdm import tqdm\n",
    "import colored_traceback\n",
    "colored_traceback.add_hook()\n",
    "\n",
    "import torch\n",
    "\n",
    "import robosuite as suite\n",
    "from robosuite.wrappers import GymWrapper\n",
    "suite.macros.IMAGE_CONVENTION = \"opencv\"    # Set the image convention to opencv so the images are automatically rendered \"right side up\" when using imageio (which uses opencv convention)\n",
    "\n",
    "from human_policy import ReachPolicy, BaseHumanPolicy, LiftPolicy, PickPlacePolicy\n",
    "# from gym_wrapper import GymWrapper"
   ]
  },
  {
   "cell_type": "code",
   "execution_count": 109,
   "metadata": {},
   "outputs": [
    {
     "name": "stdout",
     "output_type": "stream",
     "text": [
      "Device: cpu\n"
     ]
    }
   ],
   "source": [
    "device = torch.device(\"cuda\" if torch.cuda.is_available() else \"cpu\")\n",
    "if device.type == 'cuda':\n",
    "    print(\"Number of GPU devices:\", torch.cuda.device_count())\n",
    "    print(\"GPU device name:\", torch.cuda.get_device_name(0))\n",
    "else:\n",
    "    print(\"Device:\", device)"
   ]
  },
  {
   "cell_type": "code",
   "execution_count": 110,
   "metadata": {},
   "outputs": [],
   "source": [
    "class AttrDict(dict):\n",
    "    \"\"\"\n",
    "    This class allows you to access python dictionary elements using dot \n",
    "    notation `obj.key` instead of the usual square brackets `obj['key']`.\n",
    "    \"\"\"\n",
    "    __setattr__ = dict.__setitem__\n",
    "    __getattr__ = dict.__getitem__"
   ]
  },
  {
   "cell_type": "code",
   "execution_count": 111,
   "metadata": {},
   "outputs": [],
   "source": [
    "def args_type(default):\n",
    "    if isinstance(default, bool):\n",
    "        return lambda x: bool(['False', 'True'].index(x))\n",
    "    if isinstance(default, int):\n",
    "        return lambda x: float(x) if ('e' in x or '.' in x) else int(x)\n",
    "    if isinstance(default, pathlib.Path):\n",
    "        return lambda x: pathlib.Path(x).expanduser()\n",
    "    return type(default)"
   ]
  },
  {
   "cell_type": "code",
   "execution_count": 113,
   "metadata": {},
   "outputs": [],
   "source": [
    "def define_config():\n",
    "    config = AttrDict()\n",
    "\n",
    "    config.env_name = \"Lift\"    # \"PickPlaceBread\"\n",
    "    config.robots = \"Panda\"    # \"Sawyer\", \"UR5e\"\n",
    "    config.controller = \"OSC_POSE\"\n",
    "\n",
    "    config.camera_names = \"frontview\"\n",
    "    # config.camera_names = [\"frontview\", \"agentview\", \"robot0_eye_in_hand\"]\n",
    "\n",
    "    config.use_camera_obs = True\n",
    "    config.use_depth_obs = True\n",
    "    config.use_object_obs = True\n",
    "    config.use_proprio_obs = True\n",
    "    config.use_touch_obs = True\n",
    "    config.use_tactile_obs = False\n",
    "    config.use_shape_obs = False\n",
    "\n",
    "    config.img_width = 256\n",
    "    config.img_height = 256\n",
    "    config.horizon = 100\n",
    "    \n",
    "    return config"
   ]
  },
  {
   "cell_type": "code",
   "execution_count": 114,
   "metadata": {},
   "outputs": [],
   "source": [
    "def random_policy(env, obs=None):\n",
    "    low, high = env.action_spec\n",
    "    action = np.random.uniform(low, high)\n",
    "    return action"
   ]
  },
  {
   "cell_type": "code",
   "execution_count": 115,
   "metadata": {},
   "outputs": [],
   "source": [
    "def create_env(config, verbose=False):\n",
    "    assert isinstance(config.controller, str), \"controller must be a str\"\n",
    "    if config.controller == \"robomimic\":\n",
    "        with open(\"controller_config/robomimic.json\", 'r') as f:\n",
    "            controller_config = json.load(f)\n",
    "    elif config.controller is not None:\n",
    "        # load default controller parameters for Operational Space Control (OSC)\n",
    "        # Only OSC_POSE controller is available for human expert\n",
    "        controller_config = suite.controllers.load_controller_config(default_controller=config.controller)\n",
    "    else:\n",
    "        controller_config = None\n",
    "\n",
    "    # create an environment to visualize on-screen\n",
    "    env = suite.make(\n",
    "        env_name=config.env_name,\n",
    "        robots=config.robots,\n",
    "        gripper_types=\"default\",\n",
    "        controller_configs=controller_config,\n",
    "        reward_shaping=True, \n",
    "        has_renderer=False,\n",
    "        has_offscreen_renderer=True,\n",
    "        control_freq=20,\n",
    "        horizon=config.horizon,\n",
    "        use_object_obs=config.use_object_obs,\n",
    "        use_camera_obs=config.use_camera_obs,\n",
    "        camera_depths=config.use_depth_obs,\n",
    "        camera_heights=config.img_height, \n",
    "        camera_widths=config.img_width, \n",
    "        camera_names=config.camera_names, \n",
    "        use_tactile_obs=config.use_tactile_obs,\n",
    "        use_touch_obs=config.use_touch_obs\n",
    "    )\n",
    "    # env._max_episode_steps = env.horizon\n",
    "    print(f\"Environment created\")\n",
    "\n",
    "    if verbose:\n",
    "        obs = env.reset()    # reset the env\n",
    "        for idx, (key, val) in enumerate(obs.items()):\n",
    "            print(f\"{idx} Var: {key}, shape: {val.shape}, range: ({val.min()}, {val.max()})\")\n",
    "\n",
    "    return env"
   ]
  },
  {
   "cell_type": "code",
   "execution_count": 116,
   "metadata": {},
   "outputs": [],
   "source": [
    "def save_frames_to_video(frames, savepath, fps=30, verbose=False):\n",
    "    if not str(savepath).endswith(\".mp4\"):\n",
    "        print(\"Error: savepath must have extension '.mp4'\")\n",
    "        return False\n",
    "\n",
    "    with imageio.get_writer(savepath, fps=fps) as writer:\n",
    "        for i in range(len(frames)):\n",
    "            # frame = np.array(Image.fromarray(frames[i]).resize((512, 512)))\n",
    "            writer.append_data(frames[i])\n",
    "    # imageio.mimsave(savepath, frames_depth, fps=30)\n",
    "\n",
    "    if verbose:\n",
    "        print(f\"Saved frames to video at {savepath}\")\n",
    "\n",
    "    return True"
   ]
  },
  {
   "cell_type": "code",
   "execution_count": 117,
   "metadata": {},
   "outputs": [],
   "source": [
    "def episode_rollout(env, config, save_frames=False):\n",
    "    \"\"\"\n",
    "    Rolls out an episode using some policy and saves RGB + depth (maybe) \n",
    "    frames in a video\n",
    "    \"\"\"\n",
    "    if isinstance(config.camera_names, str):\n",
    "        rgb_cam = config.camera_names + \"_image\"\n",
    "        depth_cam = config.camera_names + \"_depth\"\n",
    "    elif isinstance(config.camera_names, list):\n",
    "        rgb_cam = [camera_name + \"_image\" for camera_name in config.camera_names]\n",
    "        depth_cam = [camera_name + \"_depth\" for camera_name in config.camera_names]\n",
    "\n",
    "    obs = env.reset()    # reset the env\n",
    "\n",
    "    rgb_frames = [obs[rgb_cam]]\n",
    "    depth_frames = [np.uint8(obs[depth_cam] * 255)]\n",
    "\n",
    "    ep_reward = 0\n",
    "    start_time = time.time()\n",
    "\n",
    "    # episode rollout\n",
    "    done = False\n",
    "    while not done:\n",
    "        action = random_policy(env)         # use observation to decide on an action\n",
    "        obs, reward, done, _ = env.step(action)    # play action\n",
    "        ep_reward += reward\n",
    "\n",
    "        rgb_frames.append(obs[rgb_cam])\n",
    "        depth_image = np.uint8(obs[depth_cam] * 255)\n",
    "        depth_frames.append(depth_image)\n",
    "\n",
    "        # proprio_state = np.concatenate((obs[\"robot0_joint_pos_cos\"], obs[\"robot0_joint_pos_sin\"], obs[\"robot0_joint_vel\"], obs[\"robot0_eef_pos\"], obs[\"robot0_eef_quat\"], obs[\"robot0_gripper_qpos\"], obs[\"robot0_gripper_qvel\"]))\n",
    "        # proprio_err = np.sum(proprio_state - obs[\"robot0_proprio-state\"])\n",
    "        # assert proprio_err == 0, f\"Proprio-state error: {proprio_err}\"\n",
    "\n",
    "        # object_state = np.concatenate((obs[\"cube_pos\"], obs[\"cube_quat\"], obs[\"cube_to_robot0_eef_pos\"], obs[\"cube_to_robot0_eef_quat\"], obs[\"robot0_eef_to_cube_yaw\"]))\n",
    "        # object_err = np.sum(object_state - obs[\"object-state\"])\n",
    "        # assert object_err == 0, f\"Object-state error: {object_err}\"\n",
    "\n",
    "        # touch_err = np.sum(obs[\"robot0_touch\"] - obs[\"robot0_touch-state\"])\n",
    "        # assert touch_err == 0, f\"Object-state error: {touch_err}\"\n",
    "    \n",
    "    print(f\"rollout completed with return {ep_reward}\")\n",
    "    print(f\"Spent {time.time() - start_time:.3f} s to rollout {config.horizon} steps\")\n",
    "\n",
    "    if save_frames:\n",
    "        save_frames_to_video(rgb_frames, \"../demo_videos/rgb_video.mp4\")\n",
    "        save_frames_to_video(depth_frames, \"../demo_videos/depth_video.mp4\")\n",
    "    \n",
    "    return rgb_frames, depth_frames"
   ]
  },
  {
   "cell_type": "code",
   "execution_count": 118,
   "metadata": {},
   "outputs": [],
   "source": [
    "def load_episodes(directory, capacity=None):\n",
    "    # The returned directory from filenames to episodes is guaranteed to be in\n",
    "    # temporally sorted order.\n",
    "    filepaths = sorted(directory.glob('*.npz'))\n",
    "    if capacity:\n",
    "        num_steps = 0\n",
    "        num_episodes = 0\n",
    "        for filename in reversed(filenames):\n",
    "            length = int(str(filename).split('-')[-1][:-4])\n",
    "            num_steps += length\n",
    "            num_episodes += 1\n",
    "            if num_steps >= capacity:\n",
    "                break\n",
    "        filenames = filenames[-num_episodes:]\n",
    "    \n",
    "    episodes = {}\n",
    "    for filepath in filepaths:\n",
    "        try:\n",
    "            with filepath.open('rb') as f:\n",
    "                episode = np.load(f)\n",
    "                episode = {k: episode[k] for k in episode.keys()}\n",
    "        except Exception as e:\n",
    "            print(f'Could not load episode {str(filepath)}: {e}')\n",
    "            continue\n",
    "        episodes[str(filepath)] = episode\n",
    "    return episodes"
   ]
  },
  {
   "cell_type": "code",
   "execution_count": null,
   "metadata": {},
   "outputs": [],
   "source": [
    "def visualize_expert_episodes(dirpath, config):\n",
    "    # stitch the images in an episode from expert data and store in a video for visualization\n",
    "    assert dirpath, isinstance(str)\n",
    "    directory = pathlib.Path(dirpath)\n",
    "    episodes = load_episodes(directory)\n",
    "\n",
    "    print(f\"Loaded {len(episodes)} episodes / trajectories\")\n",
    "    filenames = sorted(directory.glob(\"*.npz\"))\n",
    "\n",
    "    print(\"Visualize the expert data images\")\n",
    "    for filename in filenames:\n",
    "        episode = episodes[str(filename)]\n",
    "        images = episode[\"agentview_image\"]\n",
    "        rewards = episode[\"reward\"]\n",
    "        actions = episode[\"action\"]\n",
    "        print(images.shape, images.min(), images.max())\n",
    "        print(actions.shape, actions.min(), actions.max())\n",
    "        # print(rewards.shape, rewards)\n",
    "\n",
    "        video_path = \"robosuite_expert_small/videos/test.mp4\"\n",
    "        frames = episodes[str(filename)]['agentview_image']\n",
    "        break"
   ]
  },
  {
   "cell_type": "code",
   "execution_count": 119,
   "metadata": {},
   "outputs": [],
   "source": [
    "def save_episode(env, dirpath, episode):\n",
    "    \"\"\"\n",
    "    Saves an episode in a '.npz' file. Saves image observations in a video.\n",
    "    \"\"\"\n",
    "    timestamp = datetime.now().strftime('%Y%m%dT%H%M%S')\n",
    "    identifier = str(uuid.uuid4().hex)[:8]\n",
    "    \n",
    "    data_dir = pathlib.Path(f\"{dirpath}/episodes/\")\n",
    "    if not data_dir.exists():\n",
    "        data_dir.mkdir(parents=True, exist_ok=False)\n",
    "    filename = data_dir / f'{timestamp}-{identifier}.npz'\n",
    "    \n",
    "    with io.BytesIO() as f1:\n",
    "        np.savez_compressed(f1, **episode)\n",
    "        f1.seek(0)\n",
    "        with filename.open('wb') as f2:\n",
    "            f2.write(f1.read())\n",
    "    \n",
    "    # save the image observations in a video to verify whether the\n",
    "    # task (lifting process) works correctly\n",
    "    video_dir = pathlib.Path(f\"{dirpath}/videos/\")\n",
    "    if not video_dir.exists():\n",
    "        video_dir.mkdir(parents=True, exist_ok=False)\n",
    "\n",
    "    # check whether the episode dict has any \"_image\" key\n",
    "    img_keys = [key for key in episode.keys() if \"_image\" in key]\n",
    "    for key in img_keys:\n",
    "        frames = episode[key]\n",
    "        video_path = video_dir / f\"{timestamp}-{identifier}-{''.join(key.split('_')[0:-1])}.mp4\"\n",
    "        save_frames_to_video(frames, video_path)\n",
    "\n",
    "    return filename"
   ]
  },
  {
   "cell_type": "code",
   "execution_count": 120,
   "metadata": {},
   "outputs": [],
   "source": [
    "def sample_episodes(env, policy, dirpath, num_eps=1, policy_obs_keys=None):\n",
    "    eps_rewards = []\n",
    "    for _ in tqdm(range(num_eps)):\n",
    "        obs = env.reset()\n",
    "        if isinstance(policy, BaseHumanPolicy):\n",
    "            policy.reset()\n",
    "\n",
    "        # Save all observation keys from env\n",
    "        obs_keys = list(obs.keys())\n",
    "        episode = {k : [obs[k]] for k in obs_keys}\n",
    "        episode['action'] = []\n",
    "        episode['reward'] = []\n",
    "\n",
    "        # rollout an episode\n",
    "        done = False\n",
    "        while not done:\n",
    "            if policy_obs_keys is not None:\n",
    "                policy_obs = np.concatenate([obs[k] for k in policy_obs_keys])\n",
    "            else:\n",
    "                policy_obs = obs\n",
    "            action, _ = policy.predict(policy_obs)\n",
    "            obs, rew, done, _ = env.step(action)\n",
    "            for k in obs_keys:\n",
    "                episode[k].append(obs[k])\n",
    "            episode['action'].append(action)\n",
    "            episode['reward'].append(rew)\n",
    "\n",
    "        print(f\"Episode total reward: {np.sum(episode['reward']):.2f}\")\n",
    "        eps_rewards.append(np.sum(episode['reward']))\n",
    "        save_episode(env, dirpath, episode)\n",
    "        # if np.sum(episode['reward']) < 160:\n",
    "        #     print(\"Discarding current episode\")\n",
    "        #     continue\n",
    "        # else:\n",
    "        #     save_episode(env, directory, episode)\n",
    "        #     episodes_saved += 1\n",
    "    \n",
    "    # plot episode total rewards\n",
    "    plt.figure()\n",
    "    plt.plot(eps_rewards)\n",
    "    plt.axhline(y=env.horizon, color='r', linestyle='-')\n",
    "    plt.gca().set_ylim([0, env.horizon+20])\n",
    "    plt.gca().set_xlim([0, len(eps_rewards)])\n",
    "    plt.xlabel(\"Episodes\")\n",
    "    plt.ylabel(\"Episode Reward\")\n",
    "    plt.grid(linestyle=\"--\")\n",
    "    savepath = dirpath / f'reward_plot.png'\n",
    "    plt.savefig(savepath)"
   ]
  },
  {
   "cell_type": "code",
   "execution_count": 91,
   "metadata": {},
   "outputs": [],
   "source": [
    "# def save_human_episodes(env, config):\n",
    "    # policy_obs_keys = ['target_to_robot0_eef_pos']\n",
    "    # policy_obs_keys = [\n",
    "    #     'robot0_eef_pos',\n",
    "    #     'target_to_robot0_eef_pos',\n",
    "    # ]\n",
    "\n",
    "    # ob_encoder_params = utils.AttrDict(\n",
    "    #     type='identity',\n",
    "    #     input_dim=6,\n",
    "    #     feature_dim=6,\n",
    "    #     n_layers=3,\n",
    "    #     hidden_dim=512,\n",
    "    #     activation='relu',\n",
    "    #     output_activation='identity',\n",
    "    #     lr=3e-4,\n",
    "    #     update_freq=1,\n",
    "    # )\n",
    "    # actor_critic_params = utils.AttrDict(\n",
    "    #     lr=3e-4, \n",
    "    #     n_layers=3, \n",
    "    #     hidden_dim=512,\n",
    "    #     update_freq=2,\n",
    "    #     tau=0.005,\n",
    "    # )\n",
    "    # disc_params = utils.AttrDict(\n",
    "    #     reward_type=None, \n",
    "    #     n_layers=3,\n",
    "    #     hidden_dim=256,\n",
    "    #     activation='relu',\n",
    "    #     spectral_norm=True,\n",
    "    #     lr=3e-5,\n",
    "    #     update_freq=1,\n",
    "    # )\n",
    "\n",
    "    # policy = SacAeAgent(\n",
    "    #     (6,),\n",
    "    #     (7,),\n",
    "    #     device=device,\n",
    "    #     ob_encoder_params=ob_encoder_params,\n",
    "    #     actor_critic_params=actor_critic_params,\n",
    "    #     disc_params=disc_params,\n",
    "    # )\n",
    "    # model_dir = \"./data/05.01.2023/14-42-59_Reach_OSC_POSE_SAC_OSC/models/step_0050000\"\n",
    "    # policy.load(model_dir)"
   ]
  },
  {
   "cell_type": "code",
   "execution_count": 121,
   "metadata": {},
   "outputs": [
    {
     "name": "stdout",
     "output_type": "stream",
     "text": [
      "Environment created\n",
      "0 Var: robot0_joint_pos_cos, shape: (7,), range: (-0.9795183375993073, 0.9998997505708214)\n",
      "1 Var: robot0_joint_pos_sin, shape: (7,), range: (-0.5045060898720324, 0.7127009655705244)\n",
      "2 Var: robot0_joint_vel, shape: (7,), range: (0.0, 0.0)\n",
      "3 Var: robot0_eef_pos, shape: (3,), range: (-0.09727139055778301, 1.0193160306752398)\n",
      "4 Var: robot0_eef_quat, shape: (4,), range: (-0.0066152737499190995, 0.9973423368536467)\n",
      "5 Var: robot0_gripper_qpos, shape: (2,), range: (-0.020833, 0.020833)\n",
      "6 Var: robot0_gripper_qvel, shape: (2,), range: (0.0, 0.0)\n",
      "7 Var: frontview_image, shape: (256, 256, 3), range: (6, 255)\n",
      "8 Var: frontview_depth, shape: (256, 256, 1), range: (0.9920311570167542, 0.9972583055496216)\n",
      "9 Var: robot0_touch, shape: (2,), range: (0.0, 0.0)\n",
      "10 Var: cube_pos, shape: (3,), range: (-0.027427550635656113, 0.8306710214016695)\n",
      "11 Var: cube_quat, shape: (4,), range: (-0.9995560579423162, 0.029794077109670497)\n",
      "12 Var: cube_to_robot0_eef_pos, shape: (3,), range: (-0.0698438399221269, 0.1886450092735703)\n",
      "13 Var: cube_to_robot0_eef_quat, shape: (4,), range: (-0.9970966577529907, 0.004792697727680206)\n",
      "14 Var: robot0_eef_to_cube_yaw, shape: (1,), range: (-0.045248050736807356, -0.045248050736807356)\n",
      "15 Var: robot0_proprio-state, shape: (32,), range: (-0.9795183375993073, 1.0193160306752398)\n",
      "16 Var: robot0_touch-state, shape: (2,), range: (0.0, 0.0)\n",
      "17 Var: object-state, shape: (15,), range: (-0.9995560579423162, 0.8306710214016695)\n",
      "Policy object created\n",
      "Store directory: ../expert_data/robosuite/lift/panda/osc_pose/20240325T112044-100\n"
     ]
    },
    {
     "name": "stderr",
     "output_type": "stream",
     "text": [
      "  0%|          | 0/64 [00:00<?, ?it/s]"
     ]
    },
    {
     "name": "stdout",
     "output_type": "stream",
     "text": [
      "Episode total reward: 34.41\n"
     ]
    },
    {
     "name": "stderr",
     "output_type": "stream",
     "text": [
      "  2%|▏         | 1/64 [00:05<06:05,  5.80s/it]"
     ]
    },
    {
     "name": "stdout",
     "output_type": "stream",
     "text": [
      "Episode total reward: 55.16\n"
     ]
    },
    {
     "name": "stderr",
     "output_type": "stream",
     "text": [
      "  3%|▎         | 2/64 [00:09<04:27,  4.32s/it]"
     ]
    },
    {
     "name": "stdout",
     "output_type": "stream",
     "text": [
      "Episode total reward: 38.35\n"
     ]
    },
    {
     "name": "stderr",
     "output_type": "stream",
     "text": [
      "  5%|▍         | 3/64 [00:12<03:54,  3.84s/it]"
     ]
    },
    {
     "name": "stdout",
     "output_type": "stream",
     "text": [
      "Episode total reward: 34.75\n"
     ]
    },
    {
     "name": "stderr",
     "output_type": "stream",
     "text": [
      "  6%|▋         | 4/64 [00:15<03:37,  3.63s/it]"
     ]
    },
    {
     "name": "stdout",
     "output_type": "stream",
     "text": [
      "Episode total reward: 71.03\n"
     ]
    },
    {
     "name": "stderr",
     "output_type": "stream",
     "text": [
      "  8%|▊         | 5/64 [00:18<03:26,  3.51s/it]"
     ]
    },
    {
     "name": "stdout",
     "output_type": "stream",
     "text": [
      "Episode total reward: 40.04\n"
     ]
    },
    {
     "name": "stderr",
     "output_type": "stream",
     "text": [
      "  9%|▉         | 6/64 [00:22<03:19,  3.43s/it]"
     ]
    },
    {
     "name": "stdout",
     "output_type": "stream",
     "text": [
      "Episode total reward: 26.87\n"
     ]
    },
    {
     "name": "stderr",
     "output_type": "stream",
     "text": [
      " 11%|█         | 7/64 [00:25<03:13,  3.39s/it]"
     ]
    },
    {
     "name": "stdout",
     "output_type": "stream",
     "text": [
      "Episode total reward: 68.20\n"
     ]
    },
    {
     "name": "stderr",
     "output_type": "stream",
     "text": [
      " 12%|█▎        | 8/64 [00:28<03:07,  3.35s/it]"
     ]
    },
    {
     "name": "stdout",
     "output_type": "stream",
     "text": [
      "Episode total reward: 54.90\n"
     ]
    },
    {
     "name": "stderr",
     "output_type": "stream",
     "text": [
      " 14%|█▍        | 9/64 [00:32<03:03,  3.33s/it]"
     ]
    },
    {
     "name": "stdout",
     "output_type": "stream",
     "text": [
      "Episode total reward: 29.40\n"
     ]
    },
    {
     "name": "stderr",
     "output_type": "stream",
     "text": [
      " 16%|█▌        | 10/64 [00:35<02:59,  3.32s/it]"
     ]
    },
    {
     "name": "stdout",
     "output_type": "stream",
     "text": [
      "Episode total reward: 39.24\n"
     ]
    },
    {
     "name": "stderr",
     "output_type": "stream",
     "text": [
      " 17%|█▋        | 11/64 [00:38<02:55,  3.31s/it]"
     ]
    },
    {
     "name": "stdout",
     "output_type": "stream",
     "text": [
      "Episode total reward: 34.18\n"
     ]
    },
    {
     "name": "stderr",
     "output_type": "stream",
     "text": [
      " 19%|█▉        | 12/64 [00:42<02:52,  3.33s/it]"
     ]
    },
    {
     "name": "stdout",
     "output_type": "stream",
     "text": [
      "Episode total reward: 39.01\n"
     ]
    },
    {
     "name": "stderr",
     "output_type": "stream",
     "text": [
      " 20%|██        | 13/64 [00:45<02:49,  3.33s/it]"
     ]
    },
    {
     "name": "stdout",
     "output_type": "stream",
     "text": [
      "Episode total reward: 37.63\n"
     ]
    },
    {
     "name": "stderr",
     "output_type": "stream",
     "text": [
      " 22%|██▏       | 14/64 [00:48<02:46,  3.32s/it]"
     ]
    },
    {
     "name": "stdout",
     "output_type": "stream",
     "text": [
      "Episode total reward: 38.62\n"
     ]
    },
    {
     "name": "stderr",
     "output_type": "stream",
     "text": [
      " 23%|██▎       | 15/64 [00:52<02:42,  3.32s/it]"
     ]
    },
    {
     "name": "stdout",
     "output_type": "stream",
     "text": [
      "Episode total reward: 40.30\n"
     ]
    },
    {
     "name": "stderr",
     "output_type": "stream",
     "text": [
      " 25%|██▌       | 16/64 [00:55<02:39,  3.32s/it]"
     ]
    },
    {
     "name": "stdout",
     "output_type": "stream",
     "text": [
      "Episode total reward: 46.29\n"
     ]
    },
    {
     "name": "stderr",
     "output_type": "stream",
     "text": [
      " 27%|██▋       | 17/64 [00:58<02:36,  3.32s/it]"
     ]
    },
    {
     "name": "stdout",
     "output_type": "stream",
     "text": [
      "Episode total reward: 27.84\n"
     ]
    },
    {
     "name": "stderr",
     "output_type": "stream",
     "text": [
      " 28%|██▊       | 18/64 [01:01<02:32,  3.33s/it]"
     ]
    },
    {
     "name": "stdout",
     "output_type": "stream",
     "text": [
      "Episode total reward: 27.19\n"
     ]
    },
    {
     "name": "stderr",
     "output_type": "stream",
     "text": [
      " 30%|██▉       | 19/64 [01:05<02:29,  3.31s/it]"
     ]
    },
    {
     "name": "stdout",
     "output_type": "stream",
     "text": [
      "Episode total reward: 66.31\n"
     ]
    },
    {
     "name": "stderr",
     "output_type": "stream",
     "text": [
      " 31%|███▏      | 20/64 [01:08<02:26,  3.33s/it]"
     ]
    },
    {
     "name": "stdout",
     "output_type": "stream",
     "text": [
      "Episode total reward: 60.21\n"
     ]
    },
    {
     "name": "stderr",
     "output_type": "stream",
     "text": [
      " 33%|███▎      | 21/64 [01:11<02:23,  3.33s/it]"
     ]
    },
    {
     "name": "stdout",
     "output_type": "stream",
     "text": [
      "Episode total reward: 45.46\n"
     ]
    },
    {
     "name": "stderr",
     "output_type": "stream",
     "text": [
      " 34%|███▍      | 22/64 [01:15<02:20,  3.34s/it]"
     ]
    },
    {
     "name": "stdout",
     "output_type": "stream",
     "text": [
      "Episode total reward: 43.34\n"
     ]
    },
    {
     "name": "stderr",
     "output_type": "stream",
     "text": [
      " 36%|███▌      | 23/64 [01:18<02:16,  3.33s/it]"
     ]
    },
    {
     "name": "stdout",
     "output_type": "stream",
     "text": [
      "Episode total reward: 56.61\n"
     ]
    },
    {
     "name": "stderr",
     "output_type": "stream",
     "text": [
      " 38%|███▊      | 24/64 [01:21<02:13,  3.34s/it]"
     ]
    },
    {
     "name": "stdout",
     "output_type": "stream",
     "text": [
      "Episode total reward: 42.96\n"
     ]
    },
    {
     "name": "stderr",
     "output_type": "stream",
     "text": [
      " 39%|███▉      | 25/64 [01:25<02:10,  3.33s/it]"
     ]
    },
    {
     "name": "stdout",
     "output_type": "stream",
     "text": [
      "Episode total reward: 26.63\n"
     ]
    },
    {
     "name": "stderr",
     "output_type": "stream",
     "text": [
      " 41%|████      | 26/64 [01:28<02:06,  3.32s/it]"
     ]
    },
    {
     "name": "stdout",
     "output_type": "stream",
     "text": [
      "Episode total reward: 41.49\n"
     ]
    },
    {
     "name": "stderr",
     "output_type": "stream",
     "text": [
      " 42%|████▏     | 27/64 [01:31<02:02,  3.31s/it]"
     ]
    },
    {
     "name": "stdout",
     "output_type": "stream",
     "text": [
      "Episode total reward: 69.92\n"
     ]
    },
    {
     "name": "stderr",
     "output_type": "stream",
     "text": [
      " 44%|████▍     | 28/64 [01:35<01:59,  3.33s/it]"
     ]
    },
    {
     "name": "stdout",
     "output_type": "stream",
     "text": [
      "Episode total reward: 44.37\n"
     ]
    },
    {
     "name": "stderr",
     "output_type": "stream",
     "text": [
      " 45%|████▌     | 29/64 [01:38<01:56,  3.32s/it]"
     ]
    },
    {
     "name": "stdout",
     "output_type": "stream",
     "text": [
      "Episode total reward: 62.82\n"
     ]
    },
    {
     "name": "stderr",
     "output_type": "stream",
     "text": [
      " 47%|████▋     | 30/64 [01:41<01:53,  3.33s/it]"
     ]
    },
    {
     "name": "stdout",
     "output_type": "stream",
     "text": [
      "Episode total reward: 57.34\n"
     ]
    },
    {
     "name": "stderr",
     "output_type": "stream",
     "text": [
      " 48%|████▊     | 31/64 [01:45<01:49,  3.32s/it]"
     ]
    },
    {
     "name": "stdout",
     "output_type": "stream",
     "text": [
      "Episode total reward: 40.49\n"
     ]
    },
    {
     "name": "stderr",
     "output_type": "stream",
     "text": [
      " 50%|█████     | 32/64 [01:48<01:46,  3.32s/it]"
     ]
    },
    {
     "name": "stdout",
     "output_type": "stream",
     "text": [
      "Episode total reward: 50.24\n"
     ]
    },
    {
     "name": "stderr",
     "output_type": "stream",
     "text": [
      " 52%|█████▏    | 33/64 [01:51<01:42,  3.31s/it]"
     ]
    },
    {
     "name": "stdout",
     "output_type": "stream",
     "text": [
      "Episode total reward: 71.95\n"
     ]
    },
    {
     "name": "stderr",
     "output_type": "stream",
     "text": [
      " 53%|█████▎    | 34/64 [01:55<01:39,  3.31s/it]"
     ]
    },
    {
     "name": "stdout",
     "output_type": "stream",
     "text": [
      "Episode total reward: 38.70\n"
     ]
    },
    {
     "name": "stderr",
     "output_type": "stream",
     "text": [
      " 55%|█████▍    | 35/64 [01:58<01:36,  3.33s/it]"
     ]
    },
    {
     "name": "stdout",
     "output_type": "stream",
     "text": [
      "Episode total reward: 59.08\n"
     ]
    },
    {
     "name": "stderr",
     "output_type": "stream",
     "text": [
      " 56%|█████▋    | 36/64 [02:01<01:33,  3.33s/it]"
     ]
    },
    {
     "name": "stdout",
     "output_type": "stream",
     "text": [
      "Episode total reward: 40.53\n"
     ]
    },
    {
     "name": "stderr",
     "output_type": "stream",
     "text": [
      " 58%|█████▊    | 37/64 [02:05<01:29,  3.33s/it]"
     ]
    },
    {
     "name": "stdout",
     "output_type": "stream",
     "text": [
      "Episode total reward: 71.13\n"
     ]
    },
    {
     "name": "stderr",
     "output_type": "stream",
     "text": [
      " 59%|█████▉    | 38/64 [02:08<01:26,  3.32s/it]"
     ]
    },
    {
     "name": "stdout",
     "output_type": "stream",
     "text": [
      "Episode total reward: 45.07\n"
     ]
    },
    {
     "name": "stderr",
     "output_type": "stream",
     "text": [
      " 61%|██████    | 39/64 [02:11<01:22,  3.32s/it]"
     ]
    },
    {
     "name": "stdout",
     "output_type": "stream",
     "text": [
      "Episode total reward: 42.64\n"
     ]
    },
    {
     "name": "stderr",
     "output_type": "stream",
     "text": [
      " 62%|██████▎   | 40/64 [02:15<01:19,  3.30s/it]"
     ]
    },
    {
     "name": "stdout",
     "output_type": "stream",
     "text": [
      "Episode total reward: 52.33\n"
     ]
    },
    {
     "name": "stderr",
     "output_type": "stream",
     "text": [
      " 64%|██████▍   | 41/64 [02:18<01:16,  3.31s/it]"
     ]
    },
    {
     "name": "stdout",
     "output_type": "stream",
     "text": [
      "Episode total reward: 68.78\n"
     ]
    },
    {
     "name": "stderr",
     "output_type": "stream",
     "text": [
      " 66%|██████▌   | 42/64 [02:21<01:12,  3.31s/it]"
     ]
    },
    {
     "name": "stdout",
     "output_type": "stream",
     "text": [
      "Episode total reward: 37.82\n"
     ]
    },
    {
     "name": "stderr",
     "output_type": "stream",
     "text": [
      " 67%|██████▋   | 43/64 [02:24<01:09,  3.31s/it]"
     ]
    },
    {
     "name": "stdout",
     "output_type": "stream",
     "text": [
      "Episode total reward: 33.84\n"
     ]
    },
    {
     "name": "stderr",
     "output_type": "stream",
     "text": [
      " 69%|██████▉   | 44/64 [02:28<01:06,  3.33s/it]"
     ]
    },
    {
     "name": "stdout",
     "output_type": "stream",
     "text": [
      "Episode total reward: 70.02\n"
     ]
    },
    {
     "name": "stderr",
     "output_type": "stream",
     "text": [
      " 70%|███████   | 45/64 [02:31<01:03,  3.36s/it]"
     ]
    },
    {
     "name": "stdout",
     "output_type": "stream",
     "text": [
      "Episode total reward: 39.41\n"
     ]
    },
    {
     "name": "stderr",
     "output_type": "stream",
     "text": [
      " 72%|███████▏  | 46/64 [02:35<01:00,  3.37s/it]"
     ]
    },
    {
     "name": "stdout",
     "output_type": "stream",
     "text": [
      "Episode total reward: 35.39\n"
     ]
    },
    {
     "name": "stderr",
     "output_type": "stream",
     "text": [
      " 73%|███████▎  | 47/64 [02:38<00:57,  3.38s/it]"
     ]
    },
    {
     "name": "stdout",
     "output_type": "stream",
     "text": [
      "Episode total reward: 63.27\n"
     ]
    },
    {
     "name": "stderr",
     "output_type": "stream",
     "text": [
      " 75%|███████▌  | 48/64 [02:42<00:54,  3.40s/it]"
     ]
    },
    {
     "name": "stdout",
     "output_type": "stream",
     "text": [
      "Episode total reward: 57.14\n"
     ]
    },
    {
     "name": "stderr",
     "output_type": "stream",
     "text": [
      " 77%|███████▋  | 49/64 [02:45<00:51,  3.44s/it]"
     ]
    },
    {
     "name": "stdout",
     "output_type": "stream",
     "text": [
      "Episode total reward: 60.89\n"
     ]
    },
    {
     "name": "stderr",
     "output_type": "stream",
     "text": [
      " 78%|███████▊  | 50/64 [02:49<00:48,  3.47s/it]"
     ]
    },
    {
     "name": "stdout",
     "output_type": "stream",
     "text": [
      "Episode total reward: 54.50\n"
     ]
    },
    {
     "name": "stderr",
     "output_type": "stream",
     "text": [
      " 80%|███████▉  | 51/64 [02:52<00:45,  3.49s/it]"
     ]
    },
    {
     "name": "stdout",
     "output_type": "stream",
     "text": [
      "Episode total reward: 33.47\n"
     ]
    },
    {
     "name": "stderr",
     "output_type": "stream",
     "text": [
      " 81%|████████▏ | 52/64 [02:56<00:41,  3.50s/it]"
     ]
    },
    {
     "name": "stdout",
     "output_type": "stream",
     "text": [
      "Episode total reward: 27.53\n"
     ]
    },
    {
     "name": "stderr",
     "output_type": "stream",
     "text": [
      " 83%|████████▎ | 53/64 [02:59<00:38,  3.47s/it]"
     ]
    },
    {
     "name": "stdout",
     "output_type": "stream",
     "text": [
      "Episode total reward: 64.44\n"
     ]
    },
    {
     "name": "stderr",
     "output_type": "stream",
     "text": [
      " 84%|████████▍ | 54/64 [03:02<00:34,  3.46s/it]"
     ]
    },
    {
     "name": "stdout",
     "output_type": "stream",
     "text": [
      "Episode total reward: 44.37\n"
     ]
    },
    {
     "name": "stderr",
     "output_type": "stream",
     "text": [
      " 86%|████████▌ | 55/64 [03:06<00:31,  3.45s/it]"
     ]
    },
    {
     "name": "stdout",
     "output_type": "stream",
     "text": [
      "Episode total reward: 72.02\n"
     ]
    },
    {
     "name": "stderr",
     "output_type": "stream",
     "text": [
      " 88%|████████▊ | 56/64 [03:09<00:27,  3.46s/it]"
     ]
    },
    {
     "name": "stdout",
     "output_type": "stream",
     "text": [
      "Episode total reward: 68.00\n"
     ]
    },
    {
     "name": "stderr",
     "output_type": "stream",
     "text": [
      " 89%|████████▉ | 57/64 [03:13<00:24,  3.47s/it]"
     ]
    },
    {
     "name": "stdout",
     "output_type": "stream",
     "text": [
      "Episode total reward: 47.19\n"
     ]
    },
    {
     "name": "stderr",
     "output_type": "stream",
     "text": [
      " 91%|█████████ | 58/64 [03:16<00:20,  3.47s/it]"
     ]
    },
    {
     "name": "stdout",
     "output_type": "stream",
     "text": [
      "Episode total reward: 36.99\n"
     ]
    },
    {
     "name": "stderr",
     "output_type": "stream",
     "text": [
      " 92%|█████████▏| 59/64 [03:20<00:17,  3.47s/it]"
     ]
    },
    {
     "name": "stdout",
     "output_type": "stream",
     "text": [
      "Episode total reward: 56.89\n"
     ]
    },
    {
     "name": "stderr",
     "output_type": "stream",
     "text": [
      " 94%|█████████▍| 60/64 [03:23<00:13,  3.49s/it]"
     ]
    },
    {
     "name": "stdout",
     "output_type": "stream",
     "text": [
      "Episode total reward: 55.20\n"
     ]
    },
    {
     "name": "stderr",
     "output_type": "stream",
     "text": [
      " 95%|█████████▌| 61/64 [03:27<00:10,  3.53s/it]"
     ]
    },
    {
     "name": "stdout",
     "output_type": "stream",
     "text": [
      "Episode total reward: 51.74\n"
     ]
    },
    {
     "name": "stderr",
     "output_type": "stream",
     "text": [
      " 97%|█████████▋| 62/64 [03:31<00:07,  3.54s/it]"
     ]
    },
    {
     "name": "stdout",
     "output_type": "stream",
     "text": [
      "Episode total reward: 54.11\n"
     ]
    },
    {
     "name": "stderr",
     "output_type": "stream",
     "text": [
      " 98%|█████████▊| 63/64 [03:34<00:03,  3.54s/it]"
     ]
    },
    {
     "name": "stdout",
     "output_type": "stream",
     "text": [
      "Episode total reward: 40.57\n"
     ]
    },
    {
     "name": "stderr",
     "output_type": "stream",
     "text": [
      "100%|██████████| 64/64 [03:38<00:00,  3.41s/it]\n"
     ]
    },
    {
     "data": {
      "image/png": "[encoded data removed]",
      "text/plain": [
       "<Figure size 640x480 with 1 Axes>"
      ]
     },
     "metadata": {},
     "output_type": "display_data"
    }
   ],
   "source": [
    "config = define_config()\n",
    "env = create_env(config, verbose=True)\n",
    "\n",
    "if config.env_name == \"Lift\":\n",
    "    policy = LiftPolicy(env)\n",
    "elif config.env_name == \"Reach\":\n",
    "    policy = ReachPolicy(env)\n",
    "elif config.env_name == \"PickPlaceBread\":\n",
    "    policy = PickPlacePolicy(env)\n",
    "print(\"Policy object created\")\n",
    "\n",
    "timestamp = datetime.now().strftime('%Y%m%dT%H%M%S')\n",
    "dirpath = pathlib.Path(f\"../expert_data/robosuite/{config.env_name.lower()}/{config.robots.lower()}/{config.controller.lower()}/{timestamp}-{config.horizon}/\")\n",
    "print(\"Store directory:\", dirpath)\n",
    "if not dirpath.exists():\n",
    "    dirpath.mkdir(parents=True, exist_ok=True)\n",
    "\n",
    "# generate episodes based on policy and save episodes and videos\n",
    "sample_episodes(env, policy, dirpath, num_eps=64, policy_obs_keys=None)\n",
    "\n",
    "env.close()"
   ]
  }
 ],
 "metadata": {
  "kernelspec": {
   "display_name": "rlenv",
   "language": "python",
   "name": "python3"
  },
  "language_info": {
   "codemirror_mode": {
    "name": "ipython",
    "version": 3
   },
   "file_extension": ".py",
   "mimetype": "text/x-python",
   "name": "python",
   "nbconvert_exporter": "python",
   "pygments_lexer": "ipython3",
   "version": "3.9.6"
  }
 },
 "nbformat": 4,
 "nbformat_minor": 2
}
